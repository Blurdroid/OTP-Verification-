{
 "cells": [
  {
   "cell_type": "code",
   "execution_count": null,
   "id": "82e6a4aa",
   "metadata": {},
   "outputs": [],
   "source": [
    "pip install customtkinter"
   ]
  },
  {
   "cell_type": "code",
   "execution_count": 1,
   "id": "e5db5f51",
   "metadata": {},
   "outputs": [],
   "source": [
    "#import necessary libraries\n",
    "import customtkinter\n",
    "import tkinter as tk\n",
    "import random\n",
    "import smtplib\n",
    "\n",
    "otp = None\n",
    "\n",
    "def send_email():\n",
    "    global otp\n",
    "    # Generate OTP\n",
    "    otp = random.randint(100000, 999999)\n",
    "        \n",
    "    # Set up email server and login\n",
    "    server = smtplib.SMTP('smtp.gmail.com', 587)\n",
    "    server.starttls()\n",
    "    server.login(\"ziademadd20111@gmail.com\", \"ugdbpeackppzkxyc\")\n",
    "    \n",
    "    # Define email message \n",
    "    msg = \"Hello! Your OTP is \" + str(otp)\n",
    "    \n",
    "    # Send email\n",
    "    server.sendmail(\"ziademadd20111@gmail.com\", \"ziademadps@gmail.com\", msg)\n",
    "    \n",
    "    # Close email server connection\n",
    "    server.quit()\n",
    "\n",
    "    \n",
    "def otp_result():\n",
    "    global otp\n",
    "    user_input = entry.get()\n",
    "    \n",
    "    if str(otp) == user_input:\n",
    "        label_result.config(text=\"OTP verified successfully!\")\n",
    "    else:\n",
    "        label_result.config(text=\"Wrong! try again\")\n",
    "\n",
    "customtkinter.set_appearance_mode(\"dark\")\n",
    "customtkinter.set_default_color_theme(\"dark-blue\")\n",
    "\n",
    "#tkinter interface\n",
    "window = customtkinter.CTk()\n",
    "window.geometry(\"500x500\")\n",
    "\n",
    "#make frame\n",
    "frame = customtkinter.CTkFrame(master=window)\n",
    "frame.pack(pady=20, padx=60, fill=\"both\", expand=True)\n",
    "\n",
    "#head of the app \n",
    "label = customtkinter.CTkLabel(master=frame, text=\"OTP Verification Code\")\n",
    "label.pack(pady=12, padx=10)\n",
    "\n",
    "#text input for otp code\n",
    "entry = customtkinter.CTkEntry(master=frame, placeholder_text=\"enter code here\")\n",
    "entry.pack()\n",
    "\n",
    "#button \n",
    "button_send = customtkinter.CTkButton(master=frame, text=\"send email\", command=send_email)\n",
    "button_send.pack(pady=12, padx=10)\n",
    "\n",
    "#button to access \n",
    "button_result = customtkinter.CTkButton(master= frame, text=\"OK\",command=otp_result)\n",
    "button_result.pack(pady=12, padx=10)\n",
    "\n",
    "# Create the label to display the countdown\n",
    "label_result = tk.Label(frame, text=\"\")\n",
    "label_result.pack()\n",
    "\n",
    "#start tkinter\n",
    "window.mainloop()"
   ]
  },
  {
   "cell_type": "code",
   "execution_count": null,
   "id": "a34e9884",
   "metadata": {},
   "outputs": [],
   "source": []
  },
  {
   "cell_type": "code",
   "execution_count": null,
   "id": "819795f3",
   "metadata": {},
   "outputs": [],
   "source": []
  },
  {
   "cell_type": "code",
   "execution_count": null,
   "id": "7c350a7c",
   "metadata": {},
   "outputs": [],
   "source": []
  },
  {
   "cell_type": "code",
   "execution_count": null,
   "id": "19281c5f",
   "metadata": {},
   "outputs": [],
   "source": []
  }
 ],
 "metadata": {
  "kernelspec": {
   "display_name": "Python 3 (ipykernel)",
   "language": "python",
   "name": "python3"
  },
  "language_info": {
   "codemirror_mode": {
    "name": "ipython",
    "version": 3
   },
   "file_extension": ".py",
   "mimetype": "text/x-python",
   "name": "python",
   "nbconvert_exporter": "python",
   "pygments_lexer": "ipython3",
   "version": "3.9.12"
  }
 },
 "nbformat": 4,
 "nbformat_minor": 5
}
